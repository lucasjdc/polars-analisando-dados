{
  "nbformat": 4,
  "nbformat_minor": 0,
  "metadata": {
    "colab": {
      "provenance": []
    },
    "kernelspec": {
      "name": "python3",
      "display_name": "Python 3"
    },
    "language_info": {
      "name": "python"
    }
  },
  "cells": [
    {
      "cell_type": "code",
      "execution_count": null,
      "metadata": {
        "id": "Li3l-eXkIlYZ"
      },
      "outputs": [],
      "source": [
        "import polars as pl"
      ]
    },
    {
      "cell_type": "code",
      "source": [
        "restaurantes = pl.read_csv('/content/drive/MyDrive/Alura/restaurantes.csv', encoding='utf8')"
      ],
      "metadata": {
        "id": "L6AzV8A4KIGs"
      },
      "execution_count": null,
      "outputs": []
    },
    {
      "cell_type": "code",
      "source": [
        "restaurantes.head()"
      ],
      "metadata": {
        "id": "M5IzfDuTKdSv"
      },
      "execution_count": null,
      "outputs": []
    },
    {
      "cell_type": "code",
      "source": [
        "restaurantes.glimpse()"
      ],
      "metadata": {
        "id": "D1HMwqc1Kf3K"
      },
      "execution_count": null,
      "outputs": []
    },
    {
      "cell_type": "markdown",
      "source": [
        "### Convertendo valores numéricos"
      ],
      "metadata": {
        "id": "wL2xJZGFdF47"
      }
    },
    {
      "cell_type": "code",
      "source": [
        "restaurantes.with_columns(\n",
        "    pl.col('approx_cost(for two people)')\n",
        "    .str.replace(',', '')\n",
        ")"
      ],
      "metadata": {
        "id": "6jMoTwT1NeJN"
      },
      "execution_count": null,
      "outputs": []
    },
    {
      "cell_type": "code",
      "source": [
        "restaurantes.with_columns(\n",
        "    pl.col('approx_cost(for two people)')\n",
        "    .str.replace(',', '')\n",
        "    .cast(pl.Float64)\n",
        ")"
      ],
      "metadata": {
        "id": "1dZ-IWZ6OhYl"
      },
      "execution_count": null,
      "outputs": []
    },
    {
      "cell_type": "code",
      "source": [
        "restaurantes = restaurantes.with_columns(\n",
        "    pl.col('approx_cost(for two people)')\n",
        "    .str.replace(',', '')\n",
        "    .cast(pl.Float64)\n",
        ")"
      ],
      "metadata": {
        "id": "bss5Ce1IOsuK"
      },
      "execution_count": null,
      "outputs": []
    },
    {
      "cell_type": "markdown",
      "source": [
        "### Coletando estatísticas"
      ],
      "metadata": {
        "id": "twUF6YNvdRLx"
      }
    },
    {
      "cell_type": "code",
      "source": [
        "restaurantes.select(\n",
        "    pl.col('approx_cost(for two people)').max().alias('max'),\n",
        "    pl.col('approx_cost(for two people)').min().alias('min'),\n",
        "    pl.col('approx_cost(for two people)').mean().round(2).alias('média')\n",
        ")"
      ],
      "metadata": {
        "id": "p-LNs76hO-NF"
      },
      "execution_count": null,
      "outputs": []
    },
    {
      "cell_type": "markdown",
      "source": [
        "## Usando o Regex"
      ],
      "metadata": {
        "id": "u5K5qc3Idrnf"
      }
    },
    {
      "cell_type": "code",
      "source": [
        "restaurantes.with_columns(\n",
        "    pl.col('rate')\n",
        "    .str.extract(r'^([\\d\\.]+)')\n",
        ")"
      ],
      "metadata": {
        "id": "LROqiCWwdvp-"
      },
      "execution_count": null,
      "outputs": []
    },
    {
      "cell_type": "code",
      "source": [
        "restaurantes.with_columns(\n",
        "    pl.col('rate')\n",
        "    .str.extract(r'^([\\d\\.]+)')\n",
        "    .cast(pl.Float64)\n",
        ")\n"
      ],
      "metadata": {
        "id": "tcsc4Fgue739"
      },
      "execution_count": null,
      "outputs": []
    },
    {
      "cell_type": "code",
      "source": [
        "restaurantes = restaurantes.with_columns(\n",
        "    pl.col('rate')\n",
        "    .str.extract(r'^([\\d\\.]+)')\n",
        "    .cast(pl.Float64)\n",
        ")"
      ],
      "metadata": {
        "id": "3eU3DwJ4fK1S"
      },
      "execution_count": null,
      "outputs": []
    },
    {
      "cell_type": "code",
      "source": [
        "restaurantes.select(\n",
        "    pl.col('rate').max().alias('max'),\n",
        "    pl.col('rate').min().alias('min')\n",
        ")"
      ],
      "metadata": {
        "id": "KbUjZENqfWam"
      },
      "execution_count": null,
      "outputs": []
    },
    {
      "cell_type": "markdown",
      "source": [
        "Os valores obtidos revelam a amplitude das avaliações no mercado, desde os restaurantes mais bem avaliados até aqueles com pior reputação. Essa informação é crucial para entendermos o nível de exigência dos clientes e identificamos benchmarks de qualidade. Com essa base, podemos aprofundar a análise investigando a relação entre avaliações e outros fatores, como faixa de preço, tipo de restaurante e pratos mais populares, garantindo insights valiosos para o posicionamento da nova franquia."
      ],
      "metadata": {
        "id": "CRoSPx4QWgHC"
      }
    },
    {
      "cell_type": "markdown",
      "source": [
        "## Convertendo textos para listas"
      ],
      "metadata": {
        "id": "DKGFOCVBVtQY"
      }
    },
    {
      "cell_type": "markdown",
      "source": [
        "Compreender as preferências gastronômicas dos clientes é essencial para definir o cardápio da nova franquia. Restaurantes bem-sucedidos geralmente possuem pratos que se destacam e atraem clientes recorrentes.<br>\n",
        "Para garantir uma análise precisa, precisamos limpar e estruturar os dados das colunas `\"dish_liked\"` (pratos favoritos) e `\"cuisines\"` (tipos de culinária). Isso envolve dividir as listas de itens e remover espaços desnecessários, tornando os dados mais organizados para futuras análises."
      ],
      "metadata": {
        "id": "qiqdtmwNXQAB"
      }
    },
    {
      "cell_type": "code",
      "source": [
        "restaurantes.with_columns(\n",
        "    pl.col('dish_liked')\n",
        "    .cast(pl.List(pl.String)),\n",
        "    pl.col('cuisines')\n",
        "    .cast(pl.List(pl.String))\n",
        ")"
      ],
      "metadata": {
        "id": "2yMZZ0faVyh0"
      },
      "execution_count": null,
      "outputs": []
    },
    {
      "cell_type": "code",
      "source": [
        "restaurantes.with_columns(\n",
        "    pl.col('dish_liked')\n",
        "    .str.split(','),\n",
        "    pl.col('cuisines')\n",
        "    .str.split(',')\n",
        ")"
      ],
      "metadata": {
        "id": "Y3_AREkbZyyi"
      },
      "execution_count": null,
      "outputs": []
    },
    {
      "cell_type": "code",
      "source": [
        "restaurantes.with_columns(\n",
        "    pl.col('dish_liked')\n",
        "    .str.split(',')\n",
        "    .list.eval(pl.element().str.strip_chars()),\n",
        "    pl.col('cuisines')\n",
        "    .str.split(',')\n",
        "    .list.eval(pl.element().str.strip_chars())\n",
        ")"
      ],
      "metadata": {
        "id": "bPfg6ynqaZ50"
      },
      "execution_count": null,
      "outputs": []
    },
    {
      "cell_type": "code",
      "source": [
        "restaurantes = restaurantes.with_columns(\n",
        "    pl.col('dish_liked')\n",
        "    .str.split(',')\n",
        "    .list.eval(pl.element().str.strip_chars()),\n",
        "    pl.col('cuisines')\n",
        "    .str.split(',')\n",
        "    .list.eval(pl.element().str.strip_chars())\n",
        ")"
      ],
      "metadata": {
        "id": "m5yl8q-_bWZI"
      },
      "execution_count": null,
      "outputs": []
    }
  ]
}