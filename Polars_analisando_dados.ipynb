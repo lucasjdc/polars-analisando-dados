{
  "nbformat": 4,
  "nbformat_minor": 0,
  "metadata": {
    "colab": {
      "provenance": []
    },
    "kernelspec": {
      "name": "python3",
      "display_name": "Python 3"
    },
    "language_info": {
      "name": "python"
    }
  },
  "cells": [
    {
      "cell_type": "code",
      "execution_count": null,
      "metadata": {
        "id": "Li3l-eXkIlYZ"
      },
      "outputs": [],
      "source": [
        "import polars as pl"
      ]
    },
    {
      "cell_type": "code",
      "source": [
        "restaurantes = pl.read_csv('/content/drive/MyDrive/Alura/restaurantes.csv', encoding='utf8')"
      ],
      "metadata": {
        "id": "L6AzV8A4KIGs"
      },
      "execution_count": null,
      "outputs": []
    },
    {
      "cell_type": "code",
      "source": [
        "restaurantes.head()"
      ],
      "metadata": {
        "id": "M5IzfDuTKdSv"
      },
      "execution_count": null,
      "outputs": []
    },
    {
      "cell_type": "code",
      "source": [
        "restaurantes.glimpse()"
      ],
      "metadata": {
        "id": "D1HMwqc1Kf3K"
      },
      "execution_count": null,
      "outputs": []
    },
    {
      "cell_type": "markdown",
      "source": [
        "### Convertendo valores numéricos"
      ],
      "metadata": {
        "id": "wL2xJZGFdF47"
      }
    },
    {
      "cell_type": "code",
      "source": [
        "restaurantes.with_columns(\n",
        "    pl.col('approx_cost(for two people)')\n",
        "    .str.replace(',', '')\n",
        ")"
      ],
      "metadata": {
        "id": "6jMoTwT1NeJN"
      },
      "execution_count": null,
      "outputs": []
    },
    {
      "cell_type": "code",
      "source": [
        "restaurantes.with_columns(\n",
        "    pl.col('approx_cost(for two people)')\n",
        "    .str.replace(',', '')\n",
        "    .cast(pl.Float64)\n",
        ")"
      ],
      "metadata": {
        "id": "1dZ-IWZ6OhYl"
      },
      "execution_count": null,
      "outputs": []
    },
    {
      "cell_type": "code",
      "source": [
        "restaurantes = restaurantes.with_columns(\n",
        "    pl.col('approx_cost(for two people)')\n",
        "    .str.replace(',', '')\n",
        "    .cast(pl.Float64)\n",
        ")"
      ],
      "metadata": {
        "id": "bss5Ce1IOsuK"
      },
      "execution_count": null,
      "outputs": []
    },
    {
      "cell_type": "markdown",
      "source": [
        "### Coletando estatísticas"
      ],
      "metadata": {
        "id": "twUF6YNvdRLx"
      }
    },
    {
      "cell_type": "code",
      "source": [
        "restaurantes.select(\n",
        "    pl.col('approx_cost(for two people)').max().alias('max'),\n",
        "    pl.col('approx_cost(for two people)').min().alias('min'),\n",
        "    pl.col('approx_cost(for two people)').mean().round(2).alias('média')\n",
        ")"
      ],
      "metadata": {
        "id": "p-LNs76hO-NF"
      },
      "execution_count": null,
      "outputs": []
    },
    {
      "cell_type": "markdown",
      "source": [
        "## Usando o Regex"
      ],
      "metadata": {
        "id": "u5K5qc3Idrnf"
      }
    },
    {
      "cell_type": "code",
      "source": [
        "restaurantes.with_columns(\n",
        "    pl.col('rate')\n",
        "    .str.extract(r'^([\\d\\.]+)')\n",
        ")"
      ],
      "metadata": {
        "id": "LROqiCWwdvp-"
      },
      "execution_count": null,
      "outputs": []
    },
    {
      "cell_type": "code",
      "source": [
        "restaurantes.with_columns(\n",
        "    pl.col('rate')\n",
        "    .str.extract(r'^([\\d\\.]+)')\n",
        "    .cast(pl.Float64)\n",
        ")\n"
      ],
      "metadata": {
        "id": "tcsc4Fgue739"
      },
      "execution_count": null,
      "outputs": []
    },
    {
      "cell_type": "code",
      "source": [
        "restaurantes = restaurantes.with_columns(\n",
        "    pl.col('rate')\n",
        "    .str.extract(r'^([\\d\\.]+)')\n",
        "    .cast(pl.Float64)\n",
        ")"
      ],
      "metadata": {
        "id": "3eU3DwJ4fK1S"
      },
      "execution_count": null,
      "outputs": []
    },
    {
      "cell_type": "code",
      "source": [
        "restaurantes.select(\n",
        "    pl.col('rate').max().alias('max'),\n",
        "    pl.col('rate').min().alias('min')\n",
        ")"
      ],
      "metadata": {
        "id": "KbUjZENqfWam"
      },
      "execution_count": null,
      "outputs": []
    },
    {
      "cell_type": "markdown",
      "source": [
        "Os valores obtidos revelam a amplitude das avaliações no mercado, desde os restaurantes mais bem avaliados até aqueles com pior reputação. Essa informação é crucial para entendermos o nível de exigência dos clientes e identificamos benchmarks de qualidade. Com essa base, podemos aprofundar a análise investigando a relação entre avaliações e outros fatores, como faixa de preço, tipo de restaurante e pratos mais populares, garantindo insights valiosos para o posicionamento da nova franquia."
      ],
      "metadata": {
        "id": "CRoSPx4QWgHC"
      }
    },
    {
      "cell_type": "markdown",
      "source": [
        "## Convertendo textos para listas"
      ],
      "metadata": {
        "id": "DKGFOCVBVtQY"
      }
    },
    {
      "cell_type": "markdown",
      "source": [
        "Compreender as preferências gastronômicas dos clientes é essencial para definir o cardápio da nova franquia. Restaurantes bem-sucedidos geralmente possuem pratos que se destacam e atraem clientes recorrentes.<br>\n",
        "Para garantir uma análise precisa, precisamos limpar e estruturar os dados das colunas `\"dish_liked\"` (pratos favoritos) e `\"cuisines\"` (tipos de culinária). Isso envolve dividir as listas de itens e remover espaços desnecessários, tornando os dados mais organizados para futuras análises."
      ],
      "metadata": {
        "id": "qiqdtmwNXQAB"
      }
    },
    {
      "cell_type": "code",
      "source": [
        "restaurantes.with_columns(\n",
        "    pl.col('dish_liked')\n",
        "    .cast(pl.List(pl.String)),\n",
        "    pl.col('cuisines')\n",
        "    .cast(pl.List(pl.String))\n",
        ")"
      ],
      "metadata": {
        "id": "2yMZZ0faVyh0"
      },
      "execution_count": null,
      "outputs": []
    },
    {
      "cell_type": "code",
      "source": [
        "restaurantes.with_columns(\n",
        "    pl.col('dish_liked')\n",
        "    .str.split(','),\n",
        "    pl.col('cuisines')\n",
        "    .str.split(',')\n",
        ")"
      ],
      "metadata": {
        "id": "Y3_AREkbZyyi"
      },
      "execution_count": null,
      "outputs": []
    },
    {
      "cell_type": "code",
      "source": [
        "restaurantes.with_columns(\n",
        "    pl.col('dish_liked')\n",
        "    .str.split(',')\n",
        "    .list.eval(pl.element().str.strip_chars()),\n",
        "    pl.col('cuisines')\n",
        "    .str.split(',')\n",
        "    .list.eval(pl.element().str.strip_chars())\n",
        ")"
      ],
      "metadata": {
        "id": "bPfg6ynqaZ50"
      },
      "execution_count": null,
      "outputs": []
    },
    {
      "cell_type": "code",
      "source": [
        "restaurantes = restaurantes.with_columns(\n",
        "    pl.col('dish_liked')\n",
        "    .str.split(',')\n",
        "    .list.eval(pl.element().str.strip_chars()),\n",
        "    pl.col('cuisines')\n",
        "    .str.split(',')\n",
        "    .list.eval(pl.element().str.strip_chars())\n",
        ")"
      ],
      "metadata": {
        "id": "m5yl8q-_bWZI"
      },
      "execution_count": null,
      "outputs": []
    },
    {
      "cell_type": "markdown",
      "source": [
        "## Identificando dados únicos"
      ],
      "metadata": {
        "id": "H6wa4JbyaSDG"
      }
    },
    {
      "cell_type": "markdown",
      "source": [
        "O cardápio de um restaurante é um dos principais fatores que influenciam a experiência do cliente e a decisão de comsumo. Analisar os itens disponíveis pode revelar padrões e tendências gastronômicas que ajudam a definir o melhor mix de produtos para a nova franquia.<br>\n",
        "No entanto, os dados brutos podem conter formatações indesejadas, com cochetes e espaços extras. Para garantir um análise precisa, primeiro limpamos a estruturamos a coluna \"menu_item\", transformando os itens do cardápio em listas organizadas."
      ],
      "metadata": {
        "id": "U49E82IpaV3F"
      }
    },
    {
      "cell_type": "code",
      "source": [
        "restaurantes.select(\n",
        "    pl.col('menu_item').unique()\n",
        ")"
      ],
      "metadata": {
        "id": "0Rh5lKnlaU3o"
      },
      "execution_count": null,
      "outputs": []
    },
    {
      "cell_type": "code",
      "source": [
        "restaurantes.select(\n",
        "    pl.col('menu_item').unique()\n",
        ").item(0,0)"
      ],
      "metadata": {
        "id": "R0e0Wzz-cLYb"
      },
      "execution_count": null,
      "outputs": []
    },
    {
      "cell_type": "code",
      "source": [
        "restaurantes.with_columns(\n",
        "    pl.col('menu_item')\n",
        "    .str.replace('\\[', '')\n",
        "    .str.replace('\\]', '')\n",
        ")"
      ],
      "metadata": {
        "id": "mVEm39_JcjDF"
      },
      "execution_count": null,
      "outputs": []
    },
    {
      "cell_type": "code",
      "source": [
        "restaurantes.with_columns(\n",
        "    pl.col('menu_item')\n",
        "    .str.replace('\\[', '')\n",
        "    .str.replace('\\]', '')\n",
        "    .str.split(',')\n",
        "    .list.eval(pl.element().str.strip_chars())\n",
        ")"
      ],
      "metadata": {
        "id": "RLkn797edCTH"
      },
      "execution_count": null,
      "outputs": []
    },
    {
      "cell_type": "code",
      "source": [
        "restaurantes = restaurantes.with_columns(\n",
        "    pl.col('menu_item')\n",
        "    .str.replace('\\[', '')\n",
        "    .str.replace('\\]', '')\n",
        "    .str.split(',')\n",
        "    .list.eval(pl.element().str.strip_chars())\n",
        ")"
      ],
      "metadata": {
        "id": "T_hoVd98dWzs"
      },
      "execution_count": null,
      "outputs": []
    },
    {
      "cell_type": "code",
      "source": [
        "restaurantes.filter(\n",
        "    pl.col('menu_item').list.len() > 1\n",
        ").select(\n",
        "    pl.col('menu_item')\n",
        ").item(0,0).to_list()\n",
        "\n"
      ],
      "metadata": {
        "id": "Wih-PaPndbRq"
      },
      "execution_count": null,
      "outputs": []
    },
    {
      "cell_type": "markdown",
      "source": [
        "## Trabalhando com tipos de dados aninhados"
      ],
      "metadata": {
        "id": "KHt-NiITf6Al"
      }
    },
    {
      "cell_type": "markdown",
      "source": [
        "A experiência do cliente é um dos fatores mais importantes para o sucesso de um restaurante. As avaliações e comentários fornecem insights valiosos sobre a percepção do público, ajudando a identificar pontos fortes e áreas de melhoria.<br>\n",
        "Para garantir que os dados sejam analisados corretamente, primeiro precisamos limpar e estruturar a coluna `\"reviews_list\"`, removendo caracteres indesejados e separando os comentários individuais. Isso tornará a análise mais eficiente e permitirá extrais insights relevantes."
      ],
      "metadata": {
        "id": "gk_NYi7OgAXZ"
      }
    },
    {
      "cell_type": "code",
      "source": [
        "restaurantes.select(\n",
        "    pl.col('reviews_list')\n",
        ").item(0,0)"
      ],
      "metadata": {
        "id": "RFIRVV2Bf_MR"
      },
      "execution_count": null,
      "outputs": []
    },
    {
      "cell_type": "code",
      "source": [
        "restaurantes.with_columns(\n",
        "    pl.col('reviews_list')\n",
        "    .str.replace('\\[', '')\n",
        "    .str.replace('\\]', '')\n",
        "    .str.replace('\\(', '')\n",
        ").select(\n",
        "    pl.col('reviews_list')\n",
        ").item(0,0)"
      ],
      "metadata": {
        "id": "kE_pBSE5h5nj"
      },
      "execution_count": null,
      "outputs": []
    },
    {
      "cell_type": "code",
      "source": [
        "restaurantes.with_columns(\n",
        "    pl.col('reviews_list')\n",
        "    .str.replace('\\[', '')\n",
        "    .str.replace('\\]', '')\n",
        "    .str.replace('\\(', '')\n",
        "    .str.split('), (')\n",
        ")"
      ],
      "metadata": {
        "id": "CqW1SanEizkK"
      },
      "execution_count": null,
      "outputs": []
    },
    {
      "cell_type": "code",
      "source": [
        "restaurantes = restaurantes.with_columns(\n",
        "    pl.col('reviews_list')\n",
        "    .str.replace('\\[', '')\n",
        "    .str.replace('\\]', '')\n",
        "    .str.replace('\\(', '')\n",
        "    .str.split('), (')\n",
        ")\n"
      ],
      "metadata": {
        "id": "PWj1v3Zvj3KT"
      },
      "execution_count": null,
      "outputs": []
    },
    {
      "cell_type": "markdown",
      "source": [
        "## Conhecendo a proporção de categorias"
      ],
      "metadata": {
        "id": "VCsGvffdqOaX"
      }
    },
    {
      "cell_type": "markdown",
      "source": [
        "No setor de restaurantes, a forma como os clientes fazem pedidos e reservas pode impactar diretamente a experiência do usuário e o volume de vendas. Com a popularização dos aplicativos de entrega e reserva online, entender a frequência de pedidos online e a reserva de mesas pode ajudar na definição do modelo de negócio da nova franquia.<br>\n",
        "Para isso, realizamos um análise da proporção de restaurantes que oferecem pedidos online e reserva de mesas, verificando a distribuição dessas opções no mercado."
      ],
      "metadata": {
        "id": "oMvZFJ4Jqauk"
      }
    },
    {
      "cell_type": "code",
      "source": [
        "restaurantes.select(\n",
        "    [pl.col('online_order').value_counts()]\n",
        ")"
      ],
      "metadata": {
        "id": "L3QplK0ynOjQ"
      },
      "execution_count": null,
      "outputs": []
    },
    {
      "cell_type": "code",
      "source": [
        "restaurantes.select(\n",
        "    [pl.col('online_order').value_counts()]\n",
        ").unnest('online_order')"
      ],
      "metadata": {
        "id": "osz3Qz7MncaU"
      },
      "execution_count": null,
      "outputs": []
    },
    {
      "cell_type": "code",
      "source": [
        "total_registros = restaurantes.height\n",
        "total_registros"
      ],
      "metadata": {
        "id": "as2k-665oK9J"
      },
      "execution_count": null,
      "outputs": []
    },
    {
      "cell_type": "code",
      "source": [
        "restaurantes.select([\n",
        "    pl.col('online_order').value_counts()\n",
        "]).unnest('online_order').with_columns(\n",
        "    (pl.col('count')/total_registros *100).round(2)\n",
        ")"
      ],
      "metadata": {
        "id": "CgW_AyfloTya"
      },
      "execution_count": null,
      "outputs": []
    },
    {
      "cell_type": "code",
      "source": [
        "restaurantes.select([\n",
        "    pl.col('book_table').value_counts()\n",
        "]).unnest('book_table').with_columns(\n",
        "    (pl.col('count')/total_registros *100).round(2)\n",
        ")"
      ],
      "metadata": {
        "id": "4HHtyAbzphG8"
      },
      "execution_count": null,
      "outputs": []
    },
    {
      "cell_type": "markdown",
      "source": [
        "## Descobrindo tipos de restaurantes mais comuns"
      ],
      "metadata": {
        "id": "eAAe9NkwwQRT"
      }
    },
    {
      "cell_type": "markdown",
      "source": [
        "O tipo de restaurante é um fator essencial para entender o posicionamento no mercado e as preferências do público. Alguns formatos, como casual dining, cafés ou fast food, podem ser mais populares e atrair mairo volume de clientes, equanto outros, como restaurantes fine dinning, pode ter um ticket médio mais elevado.<br>\n",
        "Para identicar as categorias mais comuns, analisamos a distribuição dos tipos de restaurantes, destacando os 10 mais frequentes na base de dados."
      ],
      "metadata": {
        "id": "_umCtUriwc3k"
      }
    },
    {
      "cell_type": "code",
      "source": [
        "restaurantes.select([\n",
        "    pl.col('rest_type').n_unique(),\n",
        "    pl.col('listed_in(type)').n_unique()\n",
        "])"
      ],
      "metadata": {
        "id": "zha3b8zDwb5K"
      },
      "execution_count": null,
      "outputs": []
    },
    {
      "cell_type": "code",
      "source": [
        "restaurantes.select([\n",
        "    pl.col('listed_in(type)').value_counts()\n",
        "]).unnest('listed_in(type)')"
      ],
      "metadata": {
        "id": "aDMrX7sOx0Nw"
      },
      "execution_count": null,
      "outputs": []
    },
    {
      "cell_type": "code",
      "source": [
        "restaurantes.select([\n",
        "    pl.col('listed_in(type)').value_counts()\n",
        "]).unnest('listed_in(type)').sort('count', descending=True)"
      ],
      "metadata": {
        "id": "UQ-soZwiyVBK"
      },
      "execution_count": null,
      "outputs": []
    },
    {
      "cell_type": "code",
      "source": [
        "restaurantes.select([\n",
        "    pl.col('rest_type').value_counts()\n",
        "]).unnest('rest_type').sort('count', descending=True).head(10)"
      ],
      "metadata": {
        "id": "3e5cmiX1yyr3"
      },
      "execution_count": null,
      "outputs": []
    },
    {
      "cell_type": "markdown",
      "source": [
        "## Analisando a relação de variáveis"
      ],
      "metadata": {
        "id": "g8xhq-D715ZA"
      }
    },
    {
      "cell_type": "markdown",
      "source": [
        "Para entender melhor o mercado e o comportamento dos clientes, analisamos a relação entre três variáveis-chave:\n",
        "- Avaliação (rate) - indica a percepção dos clientres sobre a qualidade do restaurante.\n",
        "- Quanditdade de votos (votes) - Mostra o nível de engajamento dos clientes.\n",
        "- Custo apoximado para duas pessoas - Reflete o posicionamento de preço dos restaurantes.<br>\n",
        "\n",
        "Primeiro, exploramos estatísticas descritivas dessas colunas para entender a distribuição dos dados. Em seguida, criamos gráficos de dispersão para identificar padrões e correlações entre esses fatores."
      ],
      "metadata": {
        "id": "yY-RKk_u2Eb1"
      }
    },
    {
      "cell_type": "code",
      "source": [
        "restaurantes.select([\n",
        "    pl.col('rate'),\n",
        "    pl.col('votes'),\n",
        "    pl.col('approx_cost(for two people)')\n",
        "]).describe()"
      ],
      "metadata": {
        "id": "99SrdILw1-Ii"
      },
      "execution_count": null,
      "outputs": []
    },
    {
      "cell_type": "code",
      "source": [
        "!pip install 'vegafusion [embed]>=1.5.0'"
      ],
      "metadata": {
        "id": "1EN_JEnr3rZ9"
      },
      "execution_count": null,
      "outputs": []
    },
    {
      "cell_type": "code",
      "source": [
        "!pip install 'vl-convert-python>=1.6.0'"
      ],
      "metadata": {
        "id": "I5X3ix7v4lP4"
      },
      "execution_count": null,
      "outputs": []
    },
    {
      "cell_type": "code",
      "source": [
        "import altair as alt\n",
        "alt.data_transformers.enable('vegafusion')"
      ],
      "metadata": {
        "id": "meKvv5BP44eK"
      },
      "execution_count": null,
      "outputs": []
    },
    {
      "cell_type": "code",
      "source": [
        "restaurantes.plot.scatter(x = 'rate', y = 'approx_cost(for two people)').properties(width=800, height = 350, title = 'Avaliação média x custo aproximado para duas pessoas')"
      ],
      "metadata": {
        "id": "06WRb0dA5E4B"
      },
      "execution_count": null,
      "outputs": []
    },
    {
      "cell_type": "code",
      "source": [
        "restaurantes.plot.scatter(x = 'approx_cost(for two people)', y = 'votes').properties(width=800, height = 350, title = ' Custo aproximado para duas pessoas x Quantidade de avaliações')"
      ],
      "metadata": {
        "id": "n-tbsNpp6Ip6"
      },
      "execution_count": null,
      "outputs": []
    },
    {
      "cell_type": "code",
      "source": [
        "restaurantes.plot.scatter(x = 'rate', y = 'votes').properties(width=800, height = 350, title = 'Avaliação média x Quantidade de avaliações')"
      ],
      "metadata": {
        "id": "BRWyPjtH6cMF"
      },
      "execution_count": null,
      "outputs": []
    },
    {
      "cell_type": "markdown",
      "source": [
        "## Entendendo a distribuição com gráficos"
      ],
      "metadata": {
        "id": "fzFgr0fPriTY"
      }
    },
    {
      "cell_type": "markdown",
      "source": [
        "Agora que já analisamos a relação entre as variáveis, seria interessante analisar o comportamento geral da distribuição de cada uma delas, buscando por padrões que possam destacar restrantes com qualidade maior que os demais.<br>\n",
        "Vamos utilizar histogramas para avaliar a distribuição dos clientes, custo aproximado para duas pessoas e quantidade de avaliações."
      ],
      "metadata": {
        "id": "5TnfEgI8roby"
      }
    },
    {
      "cell_type": "code",
      "source": [
        "restaurantes.plot.bar(x = alt.X('rate', bin = alt.Bin(maxbins = 20)), y = alt.Y('count()')).properties(width = 800, height = 350, title = 'Distribuição de notas dadas pelos clientes')"
      ],
      "metadata": {
        "id": "_pMZPbkIrnHn"
      },
      "execution_count": null,
      "outputs": []
    },
    {
      "cell_type": "code",
      "source": [
        "restaurantes.plot.bar(x = alt.X('approx_cost(for two people)', bin = alt.Bin(maxbins = 20)), y = alt.Y('count()')).properties(width = 800, height = 350, title = 'Distribuição de custo aproximado para duas pessoas')"
      ],
      "metadata": {
        "id": "tkv7ZdKdubno"
      },
      "execution_count": null,
      "outputs": []
    },
    {
      "cell_type": "code",
      "source": [
        "restaurantes.plot.bar(x = alt.X('votes', bin = alt.Bin(maxbins = 20)), y = alt.Y('count()')).properties(width = 800, height = 350, title = 'Distribuição de avaliações de clientes')"
      ],
      "metadata": {
        "id": "Wslt9zcDu9nh"
      },
      "execution_count": null,
      "outputs": []
    },
    {
      "cell_type": "code",
      "source": [
        "restaurantes.filter(\n",
        "    pl.col('votes') > 200\n",
        ").plot.bar(x = alt.X('votes', bin = alt.Bin(maxbins = 20)), y = alt.Y('count()')).properties(width = 800, height = 350, title = 'Distribuição de avaliações de clientes (acima de 200 avaliações)')"
      ],
      "metadata": {
        "id": "3i59FKPc0GEc"
      },
      "execution_count": null,
      "outputs": []
    }
  ]
}