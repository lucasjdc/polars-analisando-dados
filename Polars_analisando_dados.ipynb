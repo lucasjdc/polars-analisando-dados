{
  "nbformat": 4,
  "nbformat_minor": 0,
  "metadata": {
    "colab": {
      "provenance": []
    },
    "kernelspec": {
      "name": "python3",
      "display_name": "Python 3"
    },
    "language_info": {
      "name": "python"
    }
  },
  "cells": [
    {
      "cell_type": "code",
      "execution_count": null,
      "metadata": {
        "id": "Li3l-eXkIlYZ"
      },
      "outputs": [],
      "source": [
        "import polars as pl"
      ]
    },
    {
      "cell_type": "code",
      "source": [
        "restaurantes = pl.read_csv('/content/drive/MyDrive/Alura/restaurantes.csv', encoding='utf8')"
      ],
      "metadata": {
        "id": "L6AzV8A4KIGs"
      },
      "execution_count": null,
      "outputs": []
    },
    {
      "cell_type": "code",
      "source": [
        "restaurantes.head()"
      ],
      "metadata": {
        "id": "M5IzfDuTKdSv"
      },
      "execution_count": null,
      "outputs": []
    },
    {
      "cell_type": "code",
      "source": [
        "restaurantes.glimpse()"
      ],
      "metadata": {
        "id": "D1HMwqc1Kf3K"
      },
      "execution_count": null,
      "outputs": []
    },
    {
      "cell_type": "markdown",
      "source": [
        "### Convertendo valores numéricos"
      ],
      "metadata": {
        "id": "wL2xJZGFdF47"
      }
    },
    {
      "cell_type": "code",
      "source": [
        "restaurantes.with_columns(\n",
        "    pl.col('approx_cost(for two people)')\n",
        "    .str.replace(',', '')\n",
        ")"
      ],
      "metadata": {
        "id": "6jMoTwT1NeJN"
      },
      "execution_count": null,
      "outputs": []
    },
    {
      "cell_type": "code",
      "source": [
        "restaurantes.with_columns(\n",
        "    pl.col('approx_cost(for two people)')\n",
        "    .str.replace(',', '')\n",
        "    .cast(pl.Float64)\n",
        ")"
      ],
      "metadata": {
        "id": "1dZ-IWZ6OhYl"
      },
      "execution_count": null,
      "outputs": []
    },
    {
      "cell_type": "code",
      "source": [
        "restaurantes = restaurantes.with_columns(\n",
        "    pl.col('approx_cost(for two people)')\n",
        "    .str.replace(',', '')\n",
        "    .cast(pl.Float64)\n",
        ")"
      ],
      "metadata": {
        "id": "bss5Ce1IOsuK"
      },
      "execution_count": null,
      "outputs": []
    },
    {
      "cell_type": "markdown",
      "source": [
        "### Coletando estatísticas"
      ],
      "metadata": {
        "id": "twUF6YNvdRLx"
      }
    },
    {
      "cell_type": "code",
      "source": [
        "restaurantes.select(\n",
        "    pl.col('approx_cost(for two people)').max().alias('max'),\n",
        "    pl.col('approx_cost(for two people)').min().alias('min'),\n",
        "    pl.col('approx_cost(for two people)').mean().round(2).alias('média')\n",
        ")"
      ],
      "metadata": {
        "id": "p-LNs76hO-NF"
      },
      "execution_count": null,
      "outputs": []
    },
    {
      "cell_type": "markdown",
      "source": [
        "## Usando o Regex"
      ],
      "metadata": {
        "id": "u5K5qc3Idrnf"
      }
    },
    {
      "cell_type": "code",
      "source": [
        "restaurantes.with_columns(\n",
        "    pl.col('rate')\n",
        "    .str.extract(r'^([\\d\\.]+)')\n",
        ")"
      ],
      "metadata": {
        "id": "LROqiCWwdvp-"
      },
      "execution_count": null,
      "outputs": []
    },
    {
      "cell_type": "code",
      "source": [
        "restaurantes.with_columns(\n",
        "    pl.col('rate')\n",
        "    .str.extract(r'^([\\d\\.]+)')\n",
        "    .cast(pl.Float64)\n",
        ")\n"
      ],
      "metadata": {
        "id": "tcsc4Fgue739"
      },
      "execution_count": null,
      "outputs": []
    },
    {
      "cell_type": "code",
      "source": [
        "restaurantes = restaurantes.with_columns(\n",
        "    pl.col('rate')\n",
        "    .str.extract(r'^([\\d\\.]+)')\n",
        "    .cast(pl.Float64)\n",
        ")"
      ],
      "metadata": {
        "id": "3eU3DwJ4fK1S"
      },
      "execution_count": null,
      "outputs": []
    },
    {
      "cell_type": "code",
      "source": [
        "restaurantes.select(\n",
        "    pl.col('rate').max().alias('max'),\n",
        "    pl.col('rate').min().alias('min')\n",
        ")"
      ],
      "metadata": {
        "id": "KbUjZENqfWam"
      },
      "execution_count": null,
      "outputs": []
    }
  ]
}